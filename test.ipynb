{
 "cells": [
  {
   "cell_type": "code",
   "execution_count": 1,
   "metadata": {},
   "outputs": [],
   "source": [
    "from functools import partial\n",
    "\n",
    "import jax.numpy as jnp\n",
    "import jax\n",
    "from jax import lax\n",
    "from jax.experimental import pallas as pl\n",
    "\n",
    "array_operand = jnp.array([0.])\n",
    "lax.cond(True, lambda x: x+1, lambda x: x-1, array_operand)\n",
    "iter_operand = iter(range(10))\n",
    "# lax.cond(True, lambda x: x+1, lambda x: next(x)-1, array_operand)"
   ]
  },
  {
   "cell_type": "code",
   "execution_count": 8,
   "metadata": {},
   "outputs": [],
   "source": [
    "@jax.jit\n",
    "def test(x):\n",
    "    return x + 5"
   ]
  },
  {
   "cell_type": "code",
   "execution_count": 14,
   "metadata": {},
   "outputs": [
    {
     "data": {
      "text/plain": [
       "{ \u001b[34m\u001b[22m\u001b[1mlambda \u001b[39m\u001b[22m\u001b[22m; a\u001b[35m:f32[10]\u001b[39m. \u001b[34m\u001b[22m\u001b[1mlet\n",
       "    \u001b[39m\u001b[22m\u001b[22mb\u001b[35m:f32[10]\u001b[39m = pjit[\n",
       "      name=test\n",
       "      jaxpr={ \u001b[34m\u001b[22m\u001b[1mlambda \u001b[39m\u001b[22m\u001b[22m; c\u001b[35m:f32[10]\u001b[39m. \u001b[34m\u001b[22m\u001b[1mlet\u001b[39m\u001b[22m\u001b[22m d\u001b[35m:f32[10]\u001b[39m = add c 5.0 \u001b[34m\u001b[22m\u001b[1min \u001b[39m\u001b[22m\u001b[22m(d,) }\n",
       "    ] a\n",
       "  \u001b[34m\u001b[22m\u001b[1min \u001b[39m\u001b[22m\u001b[22m(b,) }"
      ]
     },
     "execution_count": 14,
     "metadata": {},
     "output_type": "execute_result"
    }
   ],
   "source": [
    "jax.make_jaxpr(test)(jnp.zeros(10))"
   ]
  },
  {
   "cell_type": "code",
   "execution_count": null,
   "metadata": {},
   "outputs": [],
   "source": []
  },
  {
   "cell_type": "code",
   "execution_count": null,
   "metadata": {},
   "outputs": [],
   "source": []
  },
  {
   "cell_type": "code",
   "execution_count": 3,
   "metadata": {},
   "outputs": [],
   "source": [
    "def matmul_kernel(x_ref, y_ref, o_ref, *, activation, block_k):\n",
    "  acc = jnp.zeros((x_ref.shape[0], y_ref.shape[1]), jnp.float32)\n",
    "  for k in range(x_ref.shape[1] // block_k):\n",
    "    x = x_ref[:, k*block_k:(k+1)*block_k]\n",
    "    y = y_ref[k*block_k:(k+1)*block_k, :]\n",
    "    acc += x @ y\n",
    "  o_ref[:, :] = activation(acc).astype(o_ref.dtype)\n",
    "\n",
    "x, y = jnp.ones((512, 256)), jnp.ones((256, 1024))\n",
    "block_shape = 64, 256, 64\n",
    "\n",
    "@partial(jax.jit, static_argnames=[\"block_shape\", \"activation\"])\n",
    "def matmul(x, y, *, block_shape, activation):\n",
    "  block_m, block_n, block_k = block_shape\n",
    "  fused_matmul = pl.pallas_call(\n",
    "      partial(matmul_kernel, block_k=block_k, activation=activation),\n",
    "      out_shape=jax.ShapeDtypeStruct((x.shape[0], y.shape[1],), jnp.float32),\n",
    "      in_specs=[\n",
    "        pl.BlockSpec(lambda i, j: (i, 0), (block_m, x.shape[1])),\n",
    "        pl.BlockSpec(lambda i, j: (0, j), (y.shape[0], block_n))\n",
    "      ],\n",
    "      out_specs=pl.BlockSpec(lambda i, j: (i, j), (block_m, block_n)),\n",
    "      grid=(4, 4),\n",
    "  )\n",
    "  return fused_matmul(x, y)\n"
   ]
  },
  {
   "cell_type": "code",
   "execution_count": 8,
   "metadata": {},
   "outputs": [
    {
     "name": "stdout",
     "output_type": "stream",
     "text": [
      "84.9 µs ± 10.9 µs per loop (mean ± std. dev. of 7 runs, 10,000 loops each)\n"
     ]
    }
   ],
   "source": [
    "matmul(x, y, block_shape=block_shape, activation=jax.nn.gelu)\n",
    "%timeit matmul(x, y, block_shape=block_shape, activation=jax.nn.gelu)"
   ]
  },
  {
   "cell_type": "code",
   "execution_count": 12,
   "metadata": {},
   "outputs": [
    {
     "name": "stdout",
     "output_type": "stream",
     "text": [
      "61 µs ± 7.49 µs per loop (mean ± std. dev. of 7 runs, 10,000 loops each)\n"
     ]
    }
   ],
   "source": [
    "@partial(jax.jit, static_argnums=(2,))\n",
    "def fused_matmul(x, y, activation):\n",
    "    return activation(jnp.matmul(x, y))\n",
    "\n",
    "fused_matmul(x, y, jax.nn.gelu)\n",
    "%timeit fused_matmul(x, y, jax.nn.gelu)"
   ]
  }
 ],
 "metadata": {
  "kernelspec": {
   "display_name": "intract",
   "language": "python",
   "name": "python3"
  },
  "language_info": {
   "codemirror_mode": {
    "name": "ipython",
    "version": 3
   },
   "file_extension": ".py",
   "mimetype": "text/x-python",
   "name": "python",
   "nbconvert_exporter": "python",
   "pygments_lexer": "ipython3",
   "version": "3.9.-1"
  }
 },
 "nbformat": 4,
 "nbformat_minor": 2
}
